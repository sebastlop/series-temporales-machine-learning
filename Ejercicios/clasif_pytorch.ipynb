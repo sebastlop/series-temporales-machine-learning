{
 "cells": [
  {
   "cell_type": "code",
   "execution_count": 4,
   "metadata": {},
   "outputs": [],
   "source": [
    "import torch\n",
    "import numpy as np"
   ]
  },
  {
   "cell_type": "code",
   "execution_count": 5,
   "metadata": {},
   "outputs": [],
   "source": [
    "def circle(nx : int, ny: int, rad: int):\n",
    "    '''funcion para construir circulos'''\n",
    "    assert rad < min(nx,ny), 'el circulo debe estar completamente dentro'\n",
    "    canvas = np.zeros(shape=(nx,ny))\n",
    "    for i in range(nx):\n",
    "        for j in range(ny):\n",
    "            if ((i-nx//2)**2 + (j-ny//2)**2 < rad**2):\n",
    "                canvas[i,j] = 1\n",
    "    return canvas    \n",
    "\n",
    "def square(nx : int, ny: int, length: int):\n",
    "    '''funcion para construir cuadradillos'''\n",
    "    assert length < min(nx,ny)\n",
    "    canvas = np.ones(shape=(nx,ny))\n",
    "    for i in range(nx):\n",
    "        for j in range(ny):\n",
    "            if (np.abs(i-nx//2) > length) or (np.abs(j-ny//2) > length):\n",
    "                canvas[i,j] = 0\n",
    "    return canvas"
   ]
  },
  {
   "cell_type": "code",
   "execution_count": 13,
   "metadata": {},
   "outputs": [
    {
     "data": {
      "text/plain": [
       "(200, 2)"
      ]
     },
     "execution_count": 13,
     "metadata": {},
     "output_type": "execute_result"
    }
   ],
   "source": [
    "\n",
    "nx = 51\n",
    "ny = 51\n",
    "\n",
    "rng = np.random.default_rng()\n",
    "y_train = rng.integers(0,2,200)\n",
    "x_train = []\n",
    "for i in y_train:\n",
    "    if i == 0:\n",
    "        x_train.append(circle(nx, ny, rng.integers(1,25)))\n",
    "    else:\n",
    "        x_train.append(square(nx, ny, rng.integers(1,25)))\n",
    "\n",
    "\n",
    "def reduce_train(x_t):\n",
    "    # como las imagenes son en 1 bit, basta con sumar los 1 para tener el area\n",
    "    area_train = [x.sum() for x in x_t]\n",
    "    diametro_train = [x[nx//2,:].sum() for x in x_t]\n",
    "    return np.vstack([diametro_train,area_train]).T\n",
    "\n",
    "x = reduce_train(x_train)\n",
    "x.shape"
   ]
  },
  {
   "cell_type": "code",
   "execution_count": 114,
   "metadata": {},
   "outputs": [],
   "source": [
    "import torch\n",
    "class Clasif(torch.nn.Module):\n",
    "    def __init__(self):\n",
    "        super().__init__()\n",
    "        self.lin = torch.nn.Linear(in_features=2, out_features=8)\n",
    "        self.act = torch.nn.ReLU()\n",
    "        self.lin2 = torch.nn.Linear(in_features=8, out_features=1)\n",
    "        self.act2 = torch.nn.Sigmoid()\n",
    "\n",
    "    def forward(self, x):\n",
    "        x = self.lin(x)\n",
    "        x = self.act(x)\n",
    "        x = self.lin2(x)\n",
    "        x = self.act2(x)\n",
    "        return x"
   ]
  },
  {
   "cell_type": "code",
   "execution_count": 115,
   "metadata": {},
   "outputs": [
    {
     "name": "stdout",
     "output_type": "stream",
     "text": [
      "Clasif(\n",
      "  (lin): Linear(in_features=2, out_features=8, bias=True)\n",
      "  (act): ReLU()\n",
      "  (lin2): Linear(in_features=8, out_features=1, bias=True)\n",
      "  (act2): Sigmoid()\n",
      ")\n"
     ]
    }
   ],
   "source": [
    "clas = Clasif()\n",
    "criterio = torch.nn.MSELoss()\n",
    "optim = torch.optim.Adam(clas.parameters(), lr = 1e-3)\n",
    "print(clas)"
   ]
  },
  {
   "cell_type": "code",
   "execution_count": 116,
   "metadata": {},
   "outputs": [
    {
     "name": "stdout",
     "output_type": "stream",
     "text": [
      "Parameter containing:\n",
      "tensor([[ 0.3959, -0.5763],\n",
      "        [-0.3763,  0.1520],\n",
      "        [-0.5134,  0.3922],\n",
      "        [ 0.3922,  0.5699],\n",
      "        [-0.3441, -0.2422],\n",
      "        [ 0.6868, -0.4482],\n",
      "        [-0.3978,  0.2496],\n",
      "        [-0.6543, -0.3937]], requires_grad=True)\n",
      "Parameter containing:\n",
      "tensor([-0.4811, -0.2043, -0.1638, -0.7070,  0.3583, -0.2433,  0.2049,  0.5595],\n",
      "       requires_grad=True)\n",
      "Parameter containing:\n",
      "tensor([[ 0.2567, -0.1192,  0.2202, -0.2215, -0.3272, -0.2413, -0.2832,  0.2662]],\n",
      "       requires_grad=True)\n",
      "Parameter containing:\n",
      "tensor([-0.1266], requires_grad=True)\n"
     ]
    }
   ],
   "source": [
    "for p in clas.parameters():\n",
    "    print(p)"
   ]
  },
  {
   "cell_type": "code",
   "execution_count": 117,
   "metadata": {},
   "outputs": [
    {
     "data": {
      "text/plain": [
       "tensor([[0.4504],\n",
       "        [0.4504],\n",
       "        [0.4504]], grad_fn=<SigmoidBackward0>)"
      ]
     },
     "execution_count": 117,
     "metadata": {},
     "output_type": "execute_result"
    }
   ],
   "source": [
    "ejemplo = torch.ones(3,2)\n",
    "clas(ejemplo)"
   ]
  },
  {
   "cell_type": "code",
   "execution_count": 118,
   "metadata": {},
   "outputs": [],
   "source": [
    "x_t = torch.from_numpy(x).float()\n",
    "y_t = torch.from_numpy(y_train).view(-1,1).float()"
   ]
  },
  {
   "cell_type": "code",
   "execution_count": 119,
   "metadata": {},
   "outputs": [],
   "source": [
    "history = []\n",
    "for e in range(100):\n",
    "    y_pred = clas(x_t)\n",
    "    loss = criterio(y_t, y_pred)\n",
    "    history.append(loss.item())\n",
    "    optim.zero_grad()\n",
    "    loss.backward()\n",
    "    optim.step()\n",
    "    clas.eval()\n",
    "    # print(loss.item())"
   ]
  },
  {
   "cell_type": "code",
   "execution_count": 120,
   "metadata": {},
   "outputs": [
    {
     "data": {
      "text/plain": [
       "[<matplotlib.lines.Line2D at 0x74a8c9e5bc70>]"
      ]
     },
     "execution_count": 120,
     "metadata": {},
     "output_type": "execute_result"
    },
    {
     "data": {
      "image/png": "[encoded data removed]",
      "text/plain": [
       "<Figure size 640x480 with 1 Axes>"
      ]
     },
     "metadata": {},
     "output_type": "display_data"
    }
   ],
   "source": [
    "import matplotlib.pyplot as plt\n",
    "plt.plot(history)"
   ]
  },
  {
   "cell_type": "code",
   "execution_count": 121,
   "metadata": {},
   "outputs": [],
   "source": [
    "rng = np.random.default_rng()\n",
    "y_val = rng.integers(0,2,10)\n",
    "x_val = []\n",
    "for i in y_val:\n",
    "    if i == 0:\n",
    "        x_val.append(circle(nx, ny, rng.integers(1,25)))\n",
    "    else:\n",
    "        x_val.append(square(nx, ny, rng.integers(1,25)))\n",
    "\n",
    "x_val = reduce_train(x_val)"
   ]
  },
  {
   "cell_type": "code",
   "execution_count": 122,
   "metadata": {},
   "outputs": [],
   "source": [
    "x_val = torch.from_numpy(x_val).float()\n",
    "y_val = torch.from_numpy(y_val).view(-1,1).float()\n",
    "y_pval = clas(x_val)"
   ]
  },
  {
   "cell_type": "code",
   "execution_count": 124,
   "metadata": {},
   "outputs": [
    {
     "name": "stdout",
     "output_type": "stream",
     "text": [
      "tensor([1., 1., 0., 1., 0., 0., 0., 0., 0., 0.])\n",
      "[0. 1. 0. 1. 1. 1. 0. 0. 0. 0.]\n"
     ]
    }
   ],
   "source": [
    "print(y_val.flatten(0))\n",
    "print(np.round(y_pval.flatten(0).detach().numpy(),0))"
   ]
  },
  {
   "cell_type": "code",
   "execution_count": 69,
   "metadata": {},
   "outputs": [
    {
     "name": "stdout",
     "output_type": "stream",
     "text": [
      "Parameter containing:\n",
      "tensor([[-0.4831,  0.6965],\n",
      "        [-1.6011,  1.1570]], requires_grad=True)\n",
      "Parameter containing:\n",
      "tensor([-0.8529, -1.3651], requires_grad=True)\n",
      "Parameter containing:\n",
      "tensor([[0.5463, 0.3372]], requires_grad=True)\n",
      "Parameter containing:\n",
      "tensor([-0.5790], requires_grad=True)\n"
     ]
    }
   ],
   "source": [
    "for p in clas.parameters():\n",
    "    print(p)"
   ]
  },
  {
   "cell_type": "code",
   "execution_count": null,
   "metadata": {},
   "outputs": [],
   "source": []
  }
 ],
 "metadata": {
  "kernelspec": {
   "display_name": "STenv",
   "language": "python",
   "name": "python3"
  },
  "language_info": {
   "codemirror_mode": {
    "name": "ipython",
    "version": 3
   },
   "file_extension": ".py",
   "mimetype": "text/x-python",
   "name": "python",
   "nbconvert_exporter": "python",
   "pygments_lexer": "ipython3",
   "version": "3.10.12"
  }
 },
 "nbformat": 4,
 "nbformat_minor": 2
}
